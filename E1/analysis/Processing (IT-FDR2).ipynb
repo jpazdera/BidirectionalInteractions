{
 "cells": [
  {
   "cell_type": "markdown",
   "source": [
    "# Data Processing: Illusory Tempo - Forced Directional Response II"
   ],
   "metadata": {
    "collapsed": false
   }
  },
  {
   "cell_type": "code",
   "execution_count": null,
   "outputs": [],
   "source": [
    "import numpy as np\n",
    "import pandas as pd\n",
    "import scipy.stats as stats\n",
    "from glob import glob\n",
    "\n",
    "def dprime_and_c(hit_rate, fa_rate):\n",
    "\n",
    "    # Get corresponding z-scores for the hit rate and false alarm rate\n",
    "    zH = stats.norm.ppf(hit_rate)\n",
    "    zF = stats.norm.ppf(fa_rate)\n",
    "\n",
    "    # Calculate d' and C using z-scores\n",
    "    dprime = zH - zF\n",
    "    C = -(zH + zF) / 2\n",
    "\n",
    "    return dprime, C"
   ],
   "metadata": {
    "collapsed": false
   }
  },
  {
   "cell_type": "markdown",
   "metadata": {},
   "source": [
    "### Load data"
   ]
  },
  {
   "cell_type": "code",
   "execution_count": null,
   "metadata": {
    "collapsed": false,
    "jupyter": {
     "outputs_hidden": false
    }
   },
   "outputs": [],
   "source": [
    "# Find and load all data into one dataframe\n",
    "datafiles = glob('../data/Il*.csv')\n",
    "all_data = pd.concat((pd.read_csv(f) for f in datafiles))\n",
    "\n",
    "# Select only response data and create new columns\n",
    "d = all_data.loc[all_data.event == 'response', :].reset_index()\n",
    "d = d.assign(\n",
    "    response=np.array(d.key_press, dtype=int) == 50,  # Response is a boolean indicating whether they responded with \"late\"\n",
    "    octave=[int(p[-1]) for p in d.pitch],  # Octave is the integer corresponding to the tone's octave\n",
    "    chroma=[str(p[:-1]) for p in d.pitch]  # Chroma is a string indicating the tone's pitch class\n",
    ")\n",
    "\n",
    "# Mark trials for correctness\n",
    "d = d.assign(correct = (d.response == (d.offset > 0)) | (d.offset == 0))"
   ]
  },
  {
   "cell_type": "code",
   "execution_count": null,
   "metadata": {
    "collapsed": false,
    "jupyter": {
     "outputs_hidden": false
    }
   },
   "outputs": [],
   "source": [
    "octaves = [3, 5, 7]\n",
    "iois = [400, 600]\n",
    "\n",
    "# Scores will be stored in a long-format table\n",
    "scores = pd.DataFrame(columns=['subject', 'task_type', 'octave', 'ioi', 'subj_accuracy', 'subj_perc_resp_early',\n",
    "                               'accuracy', 'perc_resp_early', 'subj_hit_rate', 'subj_fa_rate',\n",
    "                               'hit_rate', 'fa_rate', 'subj_dprime', 'subj_C', 'dprime', 'C'])\n",
    "\n",
    "# Select only trials with a nonzero offset (since zero-offset trials have no correct answer)\n",
    "nonzero_offset_trials = d[d.offset != 0]\n",
    "\n",
    "# Calculate scores for each subject\n",
    "for s, subj in enumerate(d.subject.unique()):\n",
    "\n",
    "    # Select all responses from the current subject\n",
    "    subj_trials = nonzero_offset_trials[nonzero_offset_trials.subject == subj].reset_index()\n",
    "\n",
    "    # Calculate general scores across all of a subject's trials\n",
    "    task_type = subj_trials['type'][0]\n",
    "    subj_accuracy = np.mean(subj_trials.correct)\n",
    "    subj_perc_resp_early = np.mean(~subj_trials.response)\n",
    "    subj_hit_rate = (np.sum((subj_trials.offset > 0) & subj_trials.response) + .5) / (np.sum(subj_trials.offset > 0) + 1)\n",
    "    subj_fa_rate = (np.sum((subj_trials.offset < 0) & subj_trials.response) + .5) / (np.sum(subj_trials.offset < 0) + 1)\n",
    "    subj_dprime, subj_C = dprime_and_c(subj_hit_rate, subj_fa_rate)\n",
    "\n",
    "    # Calculate scores within each condition\n",
    "    for i, octave in enumerate(octaves):\n",
    "        for j, ioi in enumerate(iois):\n",
    "\n",
    "            # Select all trials from the current condition\n",
    "            trials = subj_trials[(subj_trials.octave == octave) & (subj_trials.interval == ioi)]\n",
    "\n",
    "            # Create dictionary to store scores from current subject and condition\n",
    "            condi_scores = dict(\n",
    "                subject=subj,\n",
    "                task_type=task_type,\n",
    "                octave=octave,\n",
    "                ioi=ioi,\n",
    "                subj_accuracy=subj_accuracy,\n",
    "                subj_perc_resp_early=subj_perc_resp_early,\n",
    "                subj_hit_rate=subj_hit_rate,\n",
    "                subj_fa_rate=subj_fa_rate,\n",
    "                subj_dprime=subj_dprime,\n",
    "                subj_C=subj_C\n",
    "            )\n",
    "\n",
    "            # Calculate accuracy and the percent of the time the participant responded with \"early\"\n",
    "            condi_scores['accuracy'] = np.mean(trials.correct)\n",
    "            condi_scores['perc_resp_early'] = np.mean(~trials.response)\n",
    "\n",
    "            # Calculate hit and false alarm rates using Hautus (1995) adjustment to avoid 0s and 1s\n",
    "            condi_scores['hit_rate'] = (np.sum((trials.offset > 0) & trials.response) + .5) / (np.sum(trials.offset > 0) + 1)\n",
    "            condi_scores['fa_rate'] = (np.sum((trials.offset < 0) & trials.response) + .5) / (np.sum(trials.offset < 0) + 1)\n",
    "\n",
    "            # Calculate d' and C based on the hit rate and false alarm rate\n",
    "            condi_scores['dprime'], condi_scores['C'] = dprime_and_c(condi_scores['hit_rate'], condi_scores['fa_rate'])\n",
    "\n",
    "            # Add current scores as a row to the full table of scores\n",
    "            scores.loc[len(scores.index)] = condi_scores"
   ]
  },
  {
   "cell_type": "markdown",
   "metadata": {},
   "source": [
    "### Save processed data"
   ]
  },
  {
   "cell_type": "code",
   "execution_count": null,
   "metadata": {
    "collapsed": false,
    "jupyter": {
     "outputs_hidden": false
    }
   },
   "outputs": [],
   "source": [
    "scores.to_csv('../data/scores.csv', index=False)"
   ]
  }
 ],
 "metadata": {
  "kernelspec": {
   "display_name": "Python 3 (ipykernel)",
   "language": "python",
   "name": "python3"
  },
  "language_info": {
   "codemirror_mode": {
    "name": "ipython",
    "version": 3
   },
   "file_extension": ".py",
   "mimetype": "text/x-python",
   "name": "python",
   "nbconvert_exporter": "python",
   "pygments_lexer": "ipython3",
   "version": "3.10.4"
  }
 },
 "nbformat": 4,
 "nbformat_minor": 4
}
