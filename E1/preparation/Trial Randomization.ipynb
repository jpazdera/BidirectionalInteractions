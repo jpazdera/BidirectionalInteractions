{
 "cells": [
  {
   "cell_type": "code",
   "execution_count": 1,
   "metadata": {},
   "outputs": [],
   "source": [
    "import json\n",
    "import numpy as np\n",
    "from random import shuffle, choice\n",
    "from itertools import product\n",
    "\n",
    "IOIS = ['400', '600']\n",
    "OCTAVES = ['3', '5', '7']\n",
    "OFFSETS = ['-30', '-20', '-10', '0', '10', '20', '30']\n",
    "CHROMATA = ['C', 'D', 'Ds', 'F', 'Fs', 'Gs', 'A', 'B']\n",
    "\n",
    "NSESS = 300  # Number of sessions per group\n",
    "NBLOCKS = 8  # Number of blocks per session"
   ]
  },
  {
   "cell_type": "code",
   "execution_count": 2,
   "metadata": {},
   "outputs": [],
   "source": [
    "# Generate a block of 42 trials, with tempo changing every 7 trials\n",
    "def randomize_block():\n",
    "    \"\"\"\n",
    "    Each IOI x Octave x Offset should appear once per block, for a total of 42 trials. In order to\n",
    "    change the base IOI every 7 trials, we define 6 \"series\" of 7 trials. One IOI will be assigned\n",
    "    to series 0, 2, and 4 and one IOI to series 1, 3, and 5. We can therefore guarantee each of the\n",
    "    42 trial types occurs once by generating two shuffled copies of all 21 octaves x offsets, and\n",
    "    then assigning one set of 21 trials to the 3 \"even\" series and one set of 21 trials to the 3\n",
    "    \"odd\" series.\n",
    "    \"\"\"\n",
    "    global OCTAVES, OFFSETS\n",
    "    \n",
    "    n_series = 6\n",
    "    trials_per_series = 7\n",
    "    \n",
    "    trials = [None for _ in range(n_series)]\n",
    "    even_series = [[t[0], t[1]] for t in product(OCTAVES, OFFSETS)]\n",
    "    odd_series = [[t[0], t[1]] for t in product(OCTAVES, OFFSETS)]\n",
    "    shuffle(even_series)\n",
    "    shuffle(odd_series)\n",
    "    \n",
    "    for i in range(n_series):\n",
    "        if i % 2 == 0:\n",
    "            # The indexing below is equivalent to: if i==0, 0:7; if i==2, 7:14; if i==4, 14:21\n",
    "            trials[i] = [[x[0], 'X', x[1]] for x in even_series[trials_per_series*i//2:trials_per_series*(i//2+1)]]\n",
    "        else:\n",
    "            # The indexing below is equivalent to: if i==1, 0:7; if i==3, 7:14; if i==5, 14:21\n",
    "            trials[i] = [[x[0], 'Y', x[1]] for x in odd_series[trials_per_series*(i-1)//2:trials_per_series*((i-1)//2+1)]]\n",
    "\n",
    "    return trials"
   ]
  },
  {
   "cell_type": "markdown",
   "metadata": {},
   "source": [
    "# Generate Trial Schedules"
   ]
  },
  {
   "cell_type": "code",
   "execution_count": 3,
   "metadata": {},
   "outputs": [],
   "source": [
    "sessions = []\n",
    "for i in range(NSESS):\n",
    "    \n",
    "    # Generate eight (valid) blocks for the session\n",
    "    blocks = []\n",
    "    while len(blocks) < NBLOCKS:\n",
    "        new_block = randomize_block()\n",
    "        blocks.append(new_block)\n",
    "    session = np.concatenate(blocks)\n",
    "    session = session.reshape((len(IOIS) * len(OCTAVES) * len(OFFSETS) * len(CHROMATA), 3))\n",
    "    \n",
    "    # Randomize which base rate occurs first, then fill it into the trial schedule (replacing 'X' and 'Y' placeholders)\n",
    "    ioi_order = ['400', '600']\n",
    "    shuffle(ioi_order)\n",
    "    session[session=='X'] = ioi_order[0]\n",
    "    session[session=='Y'] = ioi_order[1]\n",
    "    \n",
    "    # Randomly order the pitch classes within each octave\n",
    "    for octave in OCTAVES:\n",
    "        oct_mask = session[:, 0] == octave\n",
    "        for ioi in IOIS:\n",
    "            ioi_mask = session[:, 1] == ioi\n",
    "            for offset in OFFSETS:\n",
    "                offset_mask = session[:, 2] == offset\n",
    "                \n",
    "                # Randomly order the 8 pitch classes and slot them in to the 8 repetitions of each trial type\n",
    "                shuffle(CHROMATA)\n",
    "                session[oct_mask & ioi_mask & offset_mask, 0] = [c + str(octave) for c in CHROMATA]\n",
    "    \n",
    "    sessions.append(session)"
   ]
  },
  {
   "cell_type": "markdown",
   "metadata": {},
   "source": [
    "### Sanity Checks"
   ]
  },
  {
   "cell_type": "code",
   "execution_count": 4,
   "metadata": {},
   "outputs": [
    {
     "name": "stdout",
     "output_type": "stream",
     "text": [
      "All sessions verified successfully!\n"
     ]
    }
   ],
   "source": [
    "for i, session in enumerate(sessions):\n",
    "    \n",
    "    # Verify session length\n",
    "    if len(session) != 336:\n",
    "        raise ValueError('Session %i has improper length!' % i)\n",
    "    \n",
    "    # Verify condition counts\n",
    "    for octave in OCTAVES:\n",
    "        oct_mask = np.array([pitch[-1] == octave for pitch in session[:, 0]])\n",
    "        for ioi in IOIS:\n",
    "            ioi_mask = session[:, 1] == ioi\n",
    "            for offset in OFFSETS:\n",
    "                offset_mask = session[:, 2] == offset\n",
    "                for chroma in CHROMATA:\n",
    "                    chromask = np.array([pitch[:-1] == chroma for pitch in session[:, 0]])\n",
    "                    \n",
    "                    trials_of_type = np.sum(oct_mask & ioi_mask & offset_mask & chromask)\n",
    "                    if trials_of_type != 1:\n",
    "                        raise ValueError('Session %i has %i trials of octave %s, tempo %s, offset %s, and chroma %s!' % \n",
    "                                         (i, trials_of_type, octave, tempo, offset, chroma))\n",
    "\n",
    "print('All sessions verified successfully!')"
   ]
  },
  {
   "cell_type": "markdown",
   "metadata": {},
   "source": [
    "### Save schedules"
   ]
  },
  {
   "cell_type": "code",
   "execution_count": 5,
   "metadata": {},
   "outputs": [],
   "source": [
    "# Shuffle order of sessions and save\n",
    "shuffle(sessions)\n",
    "for i, session in enumerate(sessions):\n",
    "    with open('../schedules/session%i.json' % (i+1), 'w') as f:\n",
    "        json.dump(session.tolist(), f)"
   ]
  }
 ],
 "metadata": {
  "kernelspec": {
   "display_name": "Python 3 (ipykernel)",
   "language": "python",
   "name": "python3"
  },
  "language_info": {
   "codemirror_mode": {
    "name": "ipython",
    "version": 3
   },
   "file_extension": ".py",
   "mimetype": "text/x-python",
   "name": "python",
   "nbconvert_exporter": "python",
   "pygments_lexer": "ipython3",
   "version": "3.8.11"
  }
 },
 "nbformat": 4,
 "nbformat_minor": 4
}
